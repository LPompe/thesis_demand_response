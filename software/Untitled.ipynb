{
 "cells": [
  {
   "cell_type": "code",
   "execution_count": 1,
   "metadata": {
    "collapsed": false
   },
   "outputs": [],
   "source": [
    "from simulation_enviroment import DemandResponseEviroment\n",
    "from policies import *\n",
    "from noise_functions import gaussian_stochastic,identity\n",
    "from pricing_generators import *\n",
    "from reward_functions import *\n",
    "import sys"
   ]
  },
  {
   "cell_type": "code",
   "execution_count": null,
   "metadata": {
    "collapsed": false
   },
   "outputs": [],
   "source": []
  },
  {
   "cell_type": "code",
   "execution_count": 2,
   "metadata": {
    "collapsed": false
   },
   "outputs": [],
   "source": [
    "%matplotlib inline"
   ]
  },
  {
   "cell_type": "code",
   "execution_count": 3,
   "metadata": {
    "collapsed": true
   },
   "outputs": [],
   "source": [
    "def reward_function(s, cells):\n",
    "    #return switch_cost(s, cells)\n",
    "    return energy_price_cost(s, cells) + switch_cost(s, cells) + boundary_exceedence_cost(s, cells)"
   ]
  },
  {
   "cell_type": "code",
   "execution_count": 4,
   "metadata": {
    "collapsed": true
   },
   "outputs": [],
   "source": [
    "length = 1440\n",
    "sys.setrecursionlimit(length * 10)"
   ]
  },
  {
   "cell_type": "code",
   "execution_count": 5,
   "metadata": {
    "collapsed": false
   },
   "outputs": [
    {
     "name": "stdout",
     "output_type": "stream",
     "text": [
      "0.8\n"
     ]
    }
   ],
   "source": [
    "gamma = -1 * (1/length - 1)\n",
    "gamma = 0.8\n",
    "print(gamma)"
   ]
  },
  {
   "cell_type": "code",
   "execution_count": 6,
   "metadata": {
    "collapsed": false
   },
   "outputs": [],
   "source": [
    "env =  DemandResponseEviroment(episode_length=length * 2,  noise_function=identity, \n",
    "                               pricing_generator=ApxShiftPricingGenerator)"
   ]
  },
  {
   "cell_type": "code",
   "execution_count": 7,
   "metadata": {
    "collapsed": false
   },
   "outputs": [],
   "source": [
    "p = QLearningPolicy(alpha=0.4, gamma=gamma, epsilon=0.01)"
   ]
  },
  {
   "cell_type": "code",
   "execution_count": null,
   "metadata": {
    "collapsed": true
   },
   "outputs": [],
   "source": [
    "rewards = []\n",
    "def play(p, t, update = True):\n",
    "    if t > length * 2 + 1:\n",
    "        return 0\n",
    "    s , cells = env.get_global_state(), env.cells\n",
    "    action = p.policy(s, cells)\n",
    "    env.execute_action(action)\n",
    "    ns , ncells = env.get_global_state(), env.cells\n",
    "    reward = reward_function(ns, ncells) + gamma  * play(p, t + 1, update)\n",
    "    if t < length:\n",
    "        if update:\n",
    "            p.update(s, cells, action, ns, ncells, reward)\n",
    "        rewards.append(reward)\n",
    "    return reward"
   ]
  },
  {
   "cell_type": "code",
   "execution_count": null,
   "metadata": {
    "collapsed": false,
    "scrolled": true
   },
   "outputs": [
    {
     "name": "stdout",
     "output_type": "stream",
     "text": [
      "Starting iter.. 0\n"
     ]
    }
   ],
   "source": [
    "iters = 10000\n",
    "avg_rewards = []\n",
    "for i in range(iters):\n",
    "    if not i % 100:\n",
    "        print('Starting iter..', i)\n",
    "    env.start_episode(visualise=False)\n",
    "    play(p, 0)\n",
    "    avg_rewards.append(sum(rewards)/len(rewards))\n",
    "    rewards = []"
   ]
  },
  {
   "cell_type": "code",
   "execution_count": null,
   "metadata": {
    "collapsed": false
   },
   "outputs": [],
   "source": [
    "f = plt.figure()\n",
    "f.set_size_inches(16, 9)\n",
    "_ = plt.plot(avg_rewards)"
   ]
  },
  {
   "cell_type": "code",
   "execution_count": null,
   "metadata": {
    "collapsed": false,
    "scrolled": false
   },
   "outputs": [],
   "source": [
    "rewards = []\n",
    "env.start_episode(visualise=True)\n",
    "play(p, 0, update=False)\n",
    "print(sum(rewards)/len(rewards))"
   ]
  },
  {
   "cell_type": "code",
   "execution_count": null,
   "metadata": {
    "collapsed": false
   },
   "outputs": [],
   "source": [
    "qp = LatestSwitchPolicy(reward_function)\n",
    "rewards = []\n",
    "env.start_episode(visualise=True)\n",
    "play(qp, 0, update=False)\n",
    "print(sum(rewards)/len(rewards))"
   ]
  },
  {
   "cell_type": "code",
   "execution_count": null,
   "metadata": {
    "collapsed": false,
    "scrolled": true
   },
   "outputs": [],
   "source": [
    "p.qvalues"
   ]
  },
  {
   "cell_type": "code",
   "execution_count": null,
   "metadata": {
    "collapsed": false
   },
   "outputs": [],
   "source": [
    "p.epsilon"
   ]
  },
  {
   "cell_type": "code",
   "execution_count": null,
   "metadata": {
    "collapsed": true
   },
   "outputs": [],
   "source": []
  }
 ],
 "metadata": {
  "anaconda-cloud": {},
  "kernelspec": {
   "display_name": "Python 3",
   "language": "python",
   "name": "python3"
  },
  "language_info": {
   "codemirror_mode": {
    "name": "ipython",
    "version": 3
   },
   "file_extension": ".py",
   "mimetype": "text/x-python",
   "name": "python",
   "nbconvert_exporter": "python",
   "pygments_lexer": "ipython3",
   "version": "3.5.1"
  }
 },
 "nbformat": 4,
 "nbformat_minor": 1
}
